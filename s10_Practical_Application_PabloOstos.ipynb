{
 "cells": [
  {
   "cell_type": "markdown",
   "metadata": {},
   "source": [
    "# **SESSION 10 PRACTICAL APPLICATION ON TREE-BASED METHODS**\n",
    "============================================================================================================================================\n",
    "- Date: 01/03/2023\n",
    "- Student: Pablo Ostos Bollmann\n",
    "- Professor: Pablo Gervás\n",
    "- Master: MCSBT\n",
    "\n",
    "============================================================================================================================================"
   ]
  },
  {
   "cell_type": "markdown",
   "metadata": {},
   "source": [
    "Importing necessary libraries"
   ]
  },
  {
   "cell_type": "code",
   "execution_count": 2,
   "metadata": {},
   "outputs": [],
   "source": [
    "import numpy as np\n",
    "import pandas as pd\n",
    "import matplotlib.pyplot as plt\n",
    "\n",
    "from sklearn import datasets\n",
    "from sklearn import model_selection\n",
    "from sklearn.metrics import confusion_matrix, accuracy_score, classification_report, r2_score, confusion_matrix \n",
    "from sklearn.model_selection import train_test_split, cross_val_score, cross_val_predict \n",
    "from sklearn.model_selection import LeaveOneOut, KFold\n",
    "\n",
    "# models:\n",
    "from sklearn.tree import DecisionTreeClassifier\n",
    "from sklearn.ensemble import AdaBoostClassifier, BaggingClassifier, GradientBoostingClassifier, RandomForestClassifier"
   ]
  },
  {
   "cell_type": "markdown",
   "metadata": {},
   "source": [
    "Function to calculate accuracy and predictions "
   ]
  },
  {
   "cell_type": "code",
   "execution_count": 2,
   "metadata": {},
   "outputs": [],
   "source": [
    "# Function to calculate accuracy \n",
    "def cal_accuracy(y_test, y_pred): \n",
    "      \n",
    "    print(\"Confusion Matrix: \\n\", \n",
    "        confusion_matrix(y_test, y_pred)) \n",
    "      \n",
    "    print (\"Accuracy : \", \n",
    "    accuracy_score(y_test,y_pred)*100) \n",
    "      \n",
    "    print(\"Report : \\n\", \n",
    "    classification_report(y_test, y_pred))\n",
    "\n",
    "# Function to make predictions \n",
    "def prediction(X_test, clf_object): \n",
    "  \n",
    "    # Predicton on test with giniIndex \n",
    "    y_pred = clf_object.predict(X_test) \n",
    "    #print(\"Predicted values:\") \n",
    "    #print(y_pred) \n",
    "    return y_pred  "
   ]
  },
  {
   "cell_type": "markdown",
   "metadata": {},
   "source": [
    "# **Classifiers**"
   ]
  },
  {
   "cell_type": "markdown",
   "metadata": {},
   "source": [
    "Before starting with the analysis let's declare all the functions that contain our classifiers and that we will be applying to both datasets. For this assignment we have to take a closer look to three methods/functions for the classifiers: \n",
    "- The Train function fits the training data to the classifier.\n",
    "- The Prediction function inputs the testing data into the previously trained classifier and produces a prediction of the target value.\n",
    "- The Results function prints the confusion matrix, accuracy results, and classification report."
   ]
  },
  {
   "cell_type": "markdown",
   "metadata": {},
   "source": [
    "### **Decision tree**"
   ]
  },
  {
   "cell_type": "markdown",
   "metadata": {},
   "source": [
    "This code defines a function that trains a decision tree classifier using the Gini impurity criterion and specific parameters such as 'max_depth' and 'min_samples_leaf'. The trained classifier object is then returned from the function, which can be used for making predictions on new data."
   ]
  },
  {
   "cell_type": "code",
   "execution_count": 3,
   "metadata": {},
   "outputs": [],
   "source": [
    "# Function to perform training with giniIndex. \n",
    "def train_Decision_Tree(X_train, y_train): \n",
    "\n",
    "    # Creating the classifier object \n",
    "    clf_gini = DecisionTreeClassifier(\n",
    "            criterion = \"gini\", \n",
    "            random_state = 100,\n",
    "            max_depth=3, min_samples_leaf=5) \n",
    "\n",
    "    # Performing training \n",
    "    clf_gini.fit(X_train, y_train) \n",
    "    return clf_gini "
   ]
  },
  {
   "cell_type": "markdown",
   "metadata": {},
   "source": [
    "### **Adaboost**"
   ]
  },
  {
   "cell_type": "markdown",
   "metadata": {},
   "source": [
    "This code defines a function that trains an AdaBoost classifier with a specific number of decision trees. The trained classifier object is then returned from the function, which can be used for making predictions on new data. The AdaBoost algorithm works by sequentially adding decision trees to the ensemble, where each new tree is trained on the training data with a higher weight assigned to the misclassified samples from the previous tree. This approach allows the ensemble to focus on the samples that are difficult to classify, improving the overall accuracy of the classifier."
   ]
  },
  {
   "cell_type": "code",
   "execution_count": 4,
   "metadata": {},
   "outputs": [],
   "source": [
    "# Function to perform training with adaboost. \n",
    "def train_Adaboost(X_train, y_train): \n",
    "        seed = 7\n",
    "        num_trees = 30\n",
    "        # Creating the classifier object \n",
    "        clf_adaboost = AdaBoostClassifier(n_estimators=num_trees, random_state=seed)\n",
    "\n",
    "        # Performing training \n",
    "        clf_adaboost.fit(X_train, y_train) \n",
    "        return clf_adaboost "
   ]
  },
  {
   "cell_type": "markdown",
   "metadata": {},
   "source": [
    "### **Bagging**"
   ]
  },
  {
   "cell_type": "markdown",
   "metadata": {},
   "source": [
    "This code defines a function that trains a Bagging classifier with a specific number of decision trees. The Bagging algorithm works by training multiple instances of a base estimator on different subsets of the training data, and then combining the predictions of these estimators by taking a majority vote. This approach helps to reduce overfitting and improve the accuracy of the classifier."
   ]
  },
  {
   "cell_type": "code",
   "execution_count": 5,
   "metadata": {},
   "outputs": [],
   "source": [
    "# Function to perform training with bagging. \n",
    "def train_Bagging(X_train, y_train): \n",
    "        seed = 7\n",
    "        cart = DecisionTreeClassifier()\n",
    "        num_trees = 100\n",
    "        # Creating the classifier object \n",
    "        clf_bagging = BaggingClassifier(base_estimator=cart, n_estimators=num_trees, random_state=seed)\n",
    "\n",
    "        # Performing training \n",
    "        clf_bagging.fit(X_train, y_train) \n",
    "        return clf_bagging "
   ]
  },
  {
   "cell_type": "markdown",
   "metadata": {},
   "source": [
    "### **Gradient Boosting**"
   ]
  },
  {
   "cell_type": "markdown",
   "metadata": {},
   "source": [
    "This code defines a function that trains a Gradient Boosting classifier. The function takes two arguments, 'X_train' and 'y_train'. Inside the function, a new GradientBoostingClassifier object is created using the n_estimators parameter set to 100 and the random_state parameter set to 7. The fit method is called on the classifier object, which trains the classifier on the input training data X_train and y_train. Finally, the trained classifier object clf_gb is returned from the function. Gradient Boosting is an ensemble method that combines weak learners (in this case, decision trees) in a stage-wise manner to build a stronger classifier."
   ]
  },
  {
   "cell_type": "code",
   "execution_count": 6,
   "metadata": {},
   "outputs": [],
   "source": [
    "# Function to perform training with Gradient Boosting. \n",
    "def train_GradientBoosting(X_train, y_train): \n",
    "        seed = 7\n",
    "        num_trees = 100\n",
    "        # Creating the classifier object \n",
    "        clf_gb = GradientBoostingClassifier(n_estimators=num_trees, random_state=seed)\n",
    "\n",
    "        # Performing training \n",
    "        clf_gb.fit(X_train, y_train) \n",
    "        return clf_gb "
   ]
  },
  {
   "cell_type": "markdown",
   "metadata": {},
   "source": [
    "### **Random Forest**"
   ]
  },
  {
   "cell_type": "markdown",
   "metadata": {},
   "source": [
    "This code defines a function that trains a Random Forest classifier. The function takes two arguments, X_train and y_train, which represent the feature matrix and target vector of the training data. Inside the function, a new RandomForestClassifier object is created using the n_estimators parameter set to 100 and the max_features parameter set to 3. The fit method is called on the classifier object, which trains the classifier on the input training data X_train and y_train. Finally, the trained classifier object clf_rf is returned from the function. Random Forest is an ensemble method that creates multiple decision trees and combines them to make a more accurate and stable prediction. It does this by constructing a multitude of decision trees at training time and outputting the class that is the mode of the classes (classification) or mean prediction (regression) of the individual trees."
   ]
  },
  {
   "cell_type": "code",
   "execution_count": 7,
   "metadata": {},
   "outputs": [],
   "source": [
    "# Function to perform training with Gradient Boosting. \n",
    "def train_RandomForest(X_train, y_train): \n",
    "        seed = 7\n",
    "        num_trees = 100\n",
    "        max_features = 3\n",
    "        # Creating the classifier object \n",
    "        clf_rf = RandomForestClassifier(n_estimators=num_trees, max_features=max_features)\n",
    "\n",
    "        # Performing training \n",
    "        clf_rf.fit(X_train, y_train) \n",
    "        return clf_rf "
   ]
  },
  {
   "cell_type": "markdown",
   "metadata": {},
   "source": [
    "# **IRIS**"
   ]
  },
  {
   "cell_type": "markdown",
   "metadata": {},
   "source": [
    "## **Loads a data set**"
   ]
  },
  {
   "cell_type": "code",
   "execution_count": 8,
   "metadata": {},
   "outputs": [],
   "source": [
    "# Load the Diabetes dataset\n",
    "columns = \"sepal_length sepal_width petal_length petal_width\".split() # Declare the columns names\n",
    "iris = datasets.load_iris() # Call the diabetes dataset from sklearn\n",
    "iris_df = pd.DataFrame(iris.data, columns=columns) # load the dataset as a pandas data frame\n",
    "iris_y = iris.target # define the target variable (dependent variable) as y"
   ]
  },
  {
   "cell_type": "code",
   "execution_count": 10,
   "metadata": {},
   "outputs": [
    {
     "data": {
      "text/html": [
       "<div>\n",
       "<style scoped>\n",
       "    .dataframe tbody tr th:only-of-type {\n",
       "        vertical-align: middle;\n",
       "    }\n",
       "\n",
       "    .dataframe tbody tr th {\n",
       "        vertical-align: top;\n",
       "    }\n",
       "\n",
       "    .dataframe thead th {\n",
       "        text-align: right;\n",
       "    }\n",
       "</style>\n",
       "<table border=\"1\" class=\"dataframe\">\n",
       "  <thead>\n",
       "    <tr style=\"text-align: right;\">\n",
       "      <th></th>\n",
       "      <th>sepal length (cm)</th>\n",
       "      <th>sepal width (cm)</th>\n",
       "      <th>petal length (cm)</th>\n",
       "      <th>petal width (cm)</th>\n",
       "    </tr>\n",
       "  </thead>\n",
       "  <tbody>\n",
       "    <tr>\n",
       "      <th>0</th>\n",
       "      <td>5.1</td>\n",
       "      <td>3.5</td>\n",
       "      <td>1.4</td>\n",
       "      <td>0.2</td>\n",
       "    </tr>\n",
       "    <tr>\n",
       "      <th>1</th>\n",
       "      <td>4.9</td>\n",
       "      <td>3.0</td>\n",
       "      <td>1.4</td>\n",
       "      <td>0.2</td>\n",
       "    </tr>\n",
       "    <tr>\n",
       "      <th>2</th>\n",
       "      <td>4.7</td>\n",
       "      <td>3.2</td>\n",
       "      <td>1.3</td>\n",
       "      <td>0.2</td>\n",
       "    </tr>\n",
       "    <tr>\n",
       "      <th>3</th>\n",
       "      <td>4.6</td>\n",
       "      <td>3.1</td>\n",
       "      <td>1.5</td>\n",
       "      <td>0.2</td>\n",
       "    </tr>\n",
       "    <tr>\n",
       "      <th>4</th>\n",
       "      <td>5.0</td>\n",
       "      <td>3.6</td>\n",
       "      <td>1.4</td>\n",
       "      <td>0.2</td>\n",
       "    </tr>\n",
       "  </tbody>\n",
       "</table>\n",
       "</div>"
      ],
      "text/plain": [
       "   sepal length (cm)  sepal width (cm)  petal length (cm)  petal width (cm)\n",
       "0                5.1               3.5                1.4               0.2\n",
       "1                4.9               3.0                1.4               0.2\n",
       "2                4.7               3.2                1.3               0.2\n",
       "3                4.6               3.1                1.5               0.2\n",
       "4                5.0               3.6                1.4               0.2"
      ]
     },
     "execution_count": 10,
     "metadata": {},
     "output_type": "execute_result"
    }
   ],
   "source": [
    "iris_df.head()"
   ]
  },
  {
   "cell_type": "code",
   "execution_count": null,
   "metadata": {},
   "outputs": [],
   "source": []
  },
  {
   "cell_type": "markdown",
   "metadata": {},
   "source": [
    "### **Iris plottings**"
   ]
  },
  {
   "cell_type": "markdown",
   "metadata": {},
   "source": [
    "Let's proceed and do a scatter plot of the iris dataset. First we will plot the length vs. width of the sepal"
   ]
  },
  {
   "cell_type": "code",
   "execution_count": 13,
   "metadata": {},
   "outputs": [
    {
     "data": {
      "image/png": "[encoded data removed]",
      "text/plain": [
       "<Figure size 540x252 with 1 Axes>"
      ]
     },
     "metadata": {
      "needs_background": "light"
     },
     "output_type": "display_data"
    }
   ],
   "source": [
    "# Plotting the dataset\n",
    "plt.figure(figsize=(7.50, 3.50))\n",
    "plt.subplots_adjust(bottom=0.05, top=0.9, left=0.05, right=0.95)\n",
    "plt.subplot(111)\n",
    "plt.title(\"Sepal Length vs Sepal Width\", fontsize=\"12\")\n",
    "plt.scatter(iris_df['sepal_length'], iris_df['sepal_width'], marker=\"o\", c=iris_y, s=40, edgecolor=\"k\")\n",
    "plt.show()"
   ]
  },
  {
   "cell_type": "markdown",
   "metadata": {},
   "source": [
    "Now we can also plot the length vs width of the Petal"
   ]
  },
  {
   "cell_type": "code",
   "execution_count": 15,
   "metadata": {},
   "outputs": [
    {
     "data": {
      "image/png": "[encoded data removed]",
      "text/plain": [
       "<Figure size 540x252 with 1 Axes>"
      ]
     },
     "metadata": {
      "needs_background": "light"
     },
     "output_type": "display_data"
    }
   ],
   "source": [
    "# Plotting the dataset\n",
    "plt.figure(figsize=(7.50, 3.50))\n",
    "plt.subplots_adjust(bottom=0.05, top=0.9, left=0.05, right=0.95)\n",
    "plt.subplot(111)\n",
    "plt.title(\"Petal Length vs Petal Width\", fontsize=\"12\")\n",
    "plt.scatter(iris_df['petal_length'], iris_df['petal_width'], marker=\"o\", c=iris_y, s=40, edgecolor=\"k\")\n",
    "plt.show()"
   ]
  },
  {
   "cell_type": "markdown",
   "metadata": {},
   "source": [
    "With the two plottings above, we can see that the classes are well distributed according to the different features. This indicates that these features might be significant for the classification"
   ]
  },
  {
   "cell_type": "markdown",
   "metadata": {},
   "source": []
  },
  {
   "cell_type": "code",
   "execution_count": 1,
   "metadata": {},
   "outputs": [
    {
     "ename": "NameError",
     "evalue": "name 'plt' is not defined",
     "output_type": "error",
     "traceback": [
      "\u001b[0;31m---------------------------------------------------------------------------\u001b[0m",
      "\u001b[0;31mNameError\u001b[0m                                 Traceback (most recent call last)",
      "\u001b[1;32m/Users/pabloostos/Desktop/IE/Artificial Intelligence and Machine Learning/Tree-based methods/s10_Practical_Application_PabloOstos.ipynb Cell 35\u001b[0m in \u001b[0;36m<cell line: 2>\u001b[0;34m()\u001b[0m\n\u001b[1;32m      <a href='vscode-notebook-cell:/Users/pabloostos/Desktop/IE/Artificial%20Intelligence%20and%20Machine%20Learning/Tree-based%20methods/s10_Practical_Application_PabloOstos.ipynb#Y315sZmlsZQ%3D%3D?line=0'>1</a>\u001b[0m \u001b[39m# Plot dendrogram\u001b[39;00m\n\u001b[0;32m----> <a href='vscode-notebook-cell:/Users/pabloostos/Desktop/IE/Artificial%20Intelligence%20and%20Machine%20Learning/Tree-based%20methods/s10_Practical_Application_PabloOstos.ipynb#Y315sZmlsZQ%3D%3D?line=1'>2</a>\u001b[0m plt\u001b[39m.\u001b[39mfigure(figsize\u001b[39m=\u001b[39m(\u001b[39m20\u001b[39m, \u001b[39m7\u001b[39m))  \n\u001b[1;32m      <a href='vscode-notebook-cell:/Users/pabloostos/Desktop/IE/Artificial%20Intelligence%20and%20Machine%20Learning/Tree-based%20methods/s10_Practical_Application_PabloOstos.ipynb#Y315sZmlsZQ%3D%3D?line=2'>3</a>\u001b[0m plt\u001b[39m.\u001b[39mtitle(\u001b[39m\"\u001b[39m\u001b[39mDendrograms\u001b[39m\u001b[39m\"\u001b[39m)  \n\u001b[1;32m      <a href='vscode-notebook-cell:/Users/pabloostos/Desktop/IE/Artificial%20Intelligence%20and%20Machine%20Learning/Tree-based%20methods/s10_Practical_Application_PabloOstos.ipynb#Y315sZmlsZQ%3D%3D?line=4'>5</a>\u001b[0m \u001b[39m# Create dendrogram\u001b[39;00m\n",
      "\u001b[0;31mNameError\u001b[0m: name 'plt' is not defined"
     ]
    }
   ],
   "source": [
    "# Plot dendrogram\n",
    "plt.figure(figsize=(20, 7))  \n",
    "plt.title(\"Dendrograms\")  \n",
    "\n",
    "# Create dendrogram\n",
    "sc.dendrogram(sc.linkage(iris_df, method='ward'))\n",
    "\n",
    "plt.title('Dendrogram')\n",
    "plt.xlabel('Sample index')\n",
    "plt.ylabel('Euclidean distance')"
   ]
  },
  {
   "cell_type": "markdown",
   "metadata": {},
   "source": [
    "## **Iris validations**"
   ]
  },
  {
   "cell_type": "markdown",
   "metadata": {},
   "source": [
    "Validation is a process of assessing the performance of a trained model on an independent dataset. The purpose of validation is to evaluate the generalization ability of the model. For this purpose, I will be performing different types of validations for each of the classifiers, then I will analyse which combination of classifier/validation method offers the best performance score. "
   ]
  },
  {
   "cell_type": "markdown",
   "metadata": {},
   "source": [
    "### **Validation 1 (train-test)**"
   ]
  },
  {
   "cell_type": "markdown",
   "metadata": {},
   "source": [
    "We first split the dataset into train and test with the train_test_split() function in sklearn library"
   ]
  },
  {
   "cell_type": "code",
   "execution_count": 22,
   "metadata": {},
   "outputs": [],
   "source": [
    "# Spliting the dataset into train and test \n",
    "iris_X_train, iris_X_test, iris_y_train, iris_y_test = train_test_split(iris_df, iris_y, test_size = 0.3, random_state = 100)"
   ]
  },
  {
   "cell_type": "markdown",
   "metadata": {},
   "source": [
    "#### **Decision Tree**"
   ]
  },
  {
   "cell_type": "code",
   "execution_count": 23,
   "metadata": {},
   "outputs": [
    {
     "name": "stdout",
     "output_type": "stream",
     "text": [
      "Confusion Matrix: \n",
      " [[16  0  0]\n",
      " [ 0 10  1]\n",
      " [ 0  1 17]]\n",
      "Accuracy :  95.55555555555556\n",
      "Report : \n",
      "               precision    recall  f1-score   support\n",
      "\n",
      "           0       1.00      1.00      1.00        16\n",
      "           1       0.91      0.91      0.91        11\n",
      "           2       0.94      0.94      0.94        18\n",
      "\n",
      "    accuracy                           0.96        45\n",
      "   macro avg       0.95      0.95      0.95        45\n",
      "weighted avg       0.96      0.96      0.96        45\n",
      "\n"
     ]
    }
   ],
   "source": [
    "# Train classifier\n",
    "dt_clf = train_Decision_Tree(iris_X_train, iris_y_train)\n",
    "# clf_entropy = train_using_entropy(iris_X_train, iris_y_train)\n",
    "\n",
    "# Predict in both cases\n",
    "iris_y_pred = prediction(iris_X_test, dt_clf)\n",
    "# iris_y_pred_entropy = prediction(iris_X_test, clf_entropy)\n",
    "\n",
    "# Calculate accuracy in both cases\n",
    "cal_accuracy(iris_y_test, iris_y_pred)\n",
    "# cal_accuracy(iris_y_test, iris_y_pred_entropy)"
   ]
  },
  {
   "cell_type": "markdown",
   "metadata": {},
   "source": [
    "With this validation method we can see how no mistakes are made whenever predicting the class '0', and just one mistake was made when predicting classes 1 and 2"
   ]
  },
  {
   "cell_type": "markdown",
   "metadata": {},
   "source": [
    "#### **Adaboost**"
   ]
  },
  {
   "cell_type": "code",
   "execution_count": 27,
   "metadata": {},
   "outputs": [
    {
     "name": "stdout",
     "output_type": "stream",
     "text": [
      "Confusion Matrix: \n",
      " [[16  0  0]\n",
      " [ 0 10  1]\n",
      " [ 0  1 17]]\n",
      "Accuracy :  95.55555555555556\n",
      "Report : \n",
      "               precision    recall  f1-score   support\n",
      "\n",
      "           0       1.00      1.00      1.00        16\n",
      "           1       0.91      0.91      0.91        11\n",
      "           2       0.94      0.94      0.94        18\n",
      "\n",
      "    accuracy                           0.96        45\n",
      "   macro avg       0.95      0.95      0.95        45\n",
      "weighted avg       0.96      0.96      0.96        45\n",
      "\n"
     ]
    }
   ],
   "source": [
    "# Train classifier\n",
    "ab_clf = train_Adaboost(iris_X_train, iris_y_train)\n",
    "# clf_entropy = train_using_entropy(iris_X_train, iris_y_train)\n",
    "\n",
    "# Predict in both cases\n",
    "iris_y_pred = prediction(iris_X_test, ab_clf)\n",
    "# iris_y_pred_entropy = prediction(iris_X_test, clf_entropy)\n",
    "\n",
    "# Calculate accuracy in both cases\n",
    "cal_accuracy(iris_y_test, iris_y_pred)\n",
    "# cal_accuracy(iris_y_test, iris_y_pred_entropy)"
   ]
  },
  {
   "cell_type": "markdown",
   "metadata": {},
   "source": [
    "#### **Bagging**"
   ]
  },
  {
   "cell_type": "code",
   "execution_count": 28,
   "metadata": {},
   "outputs": [
    {
     "name": "stdout",
     "output_type": "stream",
     "text": [
      "Confusion Matrix: \n",
      " [[16  0  0]\n",
      " [ 0 10  1]\n",
      " [ 0  1 17]]\n",
      "Accuracy :  95.55555555555556\n",
      "Report : \n",
      "               precision    recall  f1-score   support\n",
      "\n",
      "           0       1.00      1.00      1.00        16\n",
      "           1       0.91      0.91      0.91        11\n",
      "           2       0.94      0.94      0.94        18\n",
      "\n",
      "    accuracy                           0.96        45\n",
      "   macro avg       0.95      0.95      0.95        45\n",
      "weighted avg       0.96      0.96      0.96        45\n",
      "\n"
     ]
    }
   ],
   "source": [
    "# Train classifier\n",
    "bag_clf = train_Bagging(iris_X_train, iris_y_train)\n",
    "# clf_entropy = train_using_entropy(iris_X_train, iris_y_train)\n",
    "\n",
    "# Predict in both cases\n",
    "iris_y_pred = prediction(iris_X_test, bag_clf)\n",
    "# iris_y_pred_entropy = prediction(iris_X_test, clf_entropy)\n",
    "\n",
    "# Calculate accuracy in both cases\n",
    "cal_accuracy(iris_y_test, iris_y_pred)\n",
    "# cal_accuracy(iris_y_test, iris_y_pred_entropy)"
   ]
  },
  {
   "cell_type": "markdown",
   "metadata": {},
   "source": [
    "#### **Gradient Boosting**"
   ]
  },
  {
   "cell_type": "code",
   "execution_count": 29,
   "metadata": {},
   "outputs": [
    {
     "name": "stdout",
     "output_type": "stream",
     "text": [
      "Confusion Matrix: \n",
      " [[16  0  0]\n",
      " [ 0 10  1]\n",
      " [ 0  1 17]]\n",
      "Accuracy :  95.55555555555556\n",
      "Report : \n",
      "               precision    recall  f1-score   support\n",
      "\n",
      "           0       1.00      1.00      1.00        16\n",
      "           1       0.91      0.91      0.91        11\n",
      "           2       0.94      0.94      0.94        18\n",
      "\n",
      "    accuracy                           0.96        45\n",
      "   macro avg       0.95      0.95      0.95        45\n",
      "weighted avg       0.96      0.96      0.96        45\n",
      "\n"
     ]
    }
   ],
   "source": [
    "# Train classifier\n",
    "gb_clf = train_Bagging(iris_X_train, iris_y_train)\n",
    "# clf_entropy = train_using_entropy(iris_X_train, iris_y_train)\n",
    "\n",
    "# Predict in both cases\n",
    "iris_y_pred = prediction(iris_X_test, gb_clf)\n",
    "\n",
    "\n",
    "# Calculate accuracy in both cases\n",
    "cal_accuracy(iris_y_test, iris_y_pred)\n"
   ]
  },
  {
   "cell_type": "markdown",
   "metadata": {},
   "source": [
    "#### **Random Forest**"
   ]
  },
  {
   "cell_type": "code",
   "execution_count": 30,
   "metadata": {},
   "outputs": [
    {
     "name": "stdout",
     "output_type": "stream",
     "text": [
      "Confusion Matrix: \n",
      " [[16  0  0]\n",
      " [ 0 10  1]\n",
      " [ 0  1 17]]\n",
      "Accuracy :  95.55555555555556\n",
      "Report : \n",
      "               precision    recall  f1-score   support\n",
      "\n",
      "           0       1.00      1.00      1.00        16\n",
      "           1       0.91      0.91      0.91        11\n",
      "           2       0.94      0.94      0.94        18\n",
      "\n",
      "    accuracy                           0.96        45\n",
      "   macro avg       0.95      0.95      0.95        45\n",
      "weighted avg       0.96      0.96      0.96        45\n",
      "\n"
     ]
    }
   ],
   "source": [
    "# Train classifier\n",
    "rf_clf = train_Bagging(iris_X_train, iris_y_train)\n",
    "# clf_entropy = train_using_entropy(iris_X_train, iris_y_train)\n",
    "\n",
    "# Predict in both cases\n",
    "iris_y_pred = prediction(iris_X_test, rf_clf)\n",
    "\n",
    "\n",
    "# Calculate accuracy in both cases\n",
    "cal_accuracy(iris_y_test, iris_y_pred)\n"
   ]
  },
  {
   "cell_type": "markdown",
   "metadata": {},
   "source": [
    "**As we can see the validation method #1 offers the same result no matter the classifier model we are using 95.5556**"
   ]
  },
  {
   "cell_type": "markdown",
   "metadata": {},
   "source": [
    "### **Validation 2 (leave one out)**"
   ]
  },
  {
   "cell_type": "code",
   "execution_count": 10,
   "metadata": {},
   "outputs": [],
   "source": [
    "loo = LeaveOneOut()"
   ]
  },
  {
   "cell_type": "markdown",
   "metadata": {},
   "source": [
    "#### **Decision Tree**"
   ]
  },
  {
   "cell_type": "code",
   "execution_count": 13,
   "metadata": {},
   "outputs": [
    {
     "name": "stdout",
     "output_type": "stream",
     "text": [
      "Bagging Accuracy :  0.9533333333333334\n"
     ]
    }
   ],
   "source": [
    "results = cross_val_score(BaggingClassifier(), iris_df, iris_y, cv=loo)\n",
    "print(\"Bagging Accuracy : \",results.mean())"
   ]
  },
  {
   "cell_type": "markdown",
   "metadata": {},
   "source": [
    "#### **Adaboost**"
   ]
  },
  {
   "cell_type": "code",
   "execution_count": 15,
   "metadata": {},
   "outputs": [
    {
     "name": "stdout",
     "output_type": "stream",
     "text": [
      "Adaboost Accuracy :  0.9533333333333334\n"
     ]
    }
   ],
   "source": [
    "results = cross_val_score(AdaBoostClassifier(), iris_df, iris_y, cv=loo)\n",
    "print(\"Adaboost Accuracy : \",results.mean())"
   ]
  },
  {
   "cell_type": "markdown",
   "metadata": {},
   "source": [
    "#### **Bagging**"
   ]
  },
  {
   "cell_type": "code",
   "execution_count": 16,
   "metadata": {},
   "outputs": [
    {
     "name": "stdout",
     "output_type": "stream",
     "text": [
      "Bagging Accuracy :  0.9533333333333334\n"
     ]
    }
   ],
   "source": [
    "results = cross_val_score(BaggingClassifier(), iris_df, iris_y, cv=loo)\n",
    "print(\"Bagging Accuracy : \",results.mean())"
   ]
  },
  {
   "cell_type": "markdown",
   "metadata": {},
   "source": [
    "#### **Gradient Boosting**"
   ]
  },
  {
   "cell_type": "code",
   "execution_count": 17,
   "metadata": {},
   "outputs": [
    {
     "name": "stdout",
     "output_type": "stream",
     "text": [
      "Gradient Boosting Accuracy :  0.9533333333333334\n"
     ]
    }
   ],
   "source": [
    "results = cross_val_score(GradientBoostingClassifier(), iris_df, iris_y, cv=loo)\n",
    "print(\"Gradient Boosting Accuracy : \",results.mean())"
   ]
  },
  {
   "cell_type": "markdown",
   "metadata": {},
   "source": [
    "#### **Random Forest**"
   ]
  },
  {
   "cell_type": "code",
   "execution_count": 18,
   "metadata": {},
   "outputs": [
    {
     "name": "stdout",
     "output_type": "stream",
     "text": [
      "Random Forest Accuracy :  0.96\n"
     ]
    }
   ],
   "source": [
    "results = cross_val_score(RandomForestClassifier(), iris_df, iris_y, cv=loo)\n",
    "print(\"Random Forest Accuracy : \",results.mean())"
   ]
  },
  {
   "cell_type": "markdown",
   "metadata": {},
   "source": [
    "**As we can see the validation method #2, leave one out gives pretty consistnet results for all classifiers (0.95333) but with the Random FOrest it returns an accuracy of 0.96**"
   ]
  },
  {
   "cell_type": "markdown",
   "metadata": {},
   "source": [
    "### **Validation 3 (K-fold)**"
   ]
  },
  {
   "cell_type": "markdown",
   "metadata": {},
   "source": [
    "This line of code creates an object kfold of the KFold class with 10 splits. KFold is a cross-validation technique used to evaluate the performance of a machine learning model. The n_splits parameter specifies the number of folds.  The number of times the data will be split into training and validation sets. In this case, the data will be split into 10 folds, with each fold used as a validation set once, and the remaining nine folds used as the training set. This process will be repeated 10 times, with each fold used as a validation set once. KFold is useful for avoiding overfitting and obtaining a more reliable estimate of the model's performance on unseen data."
   ]
  },
  {
   "cell_type": "code",
   "execution_count": 24,
   "metadata": {},
   "outputs": [],
   "source": [
    "kfold = KFold(n_splits=10)"
   ]
  },
  {
   "cell_type": "markdown",
   "metadata": {},
   "source": [
    "#### **Decision Tree**"
   ]
  },
  {
   "cell_type": "code",
   "execution_count": 25,
   "metadata": {},
   "outputs": [
    {
     "name": "stdout",
     "output_type": "stream",
     "text": [
      "Decision Tree Accuracy :  0.9466666666666667\n"
     ]
    }
   ],
   "source": [
    "results = cross_val_score(DecisionTreeClassifier(), iris_df, iris_y, cv=kfold)\n",
    "print(\"Decision Tree Accuracy : \",results.mean())"
   ]
  },
  {
   "cell_type": "markdown",
   "metadata": {},
   "source": [
    "#### **Adaboost**"
   ]
  },
  {
   "cell_type": "code",
   "execution_count": 31,
   "metadata": {},
   "outputs": [
    {
     "name": "stdout",
     "output_type": "stream",
     "text": [
      "Adaboost Accuracy :  0.9400000000000001\n"
     ]
    }
   ],
   "source": [
    "results = cross_val_score(AdaBoostClassifier(), iris_df, iris_y, cv=kfold)\n",
    "print(\"Adaboost Accuracy : \",results.mean())"
   ]
  },
  {
   "cell_type": "markdown",
   "metadata": {},
   "source": [
    "#### **Bagging**"
   ]
  },
  {
   "cell_type": "code",
   "execution_count": 32,
   "metadata": {},
   "outputs": [
    {
     "name": "stdout",
     "output_type": "stream",
     "text": [
      "Bagging Accuracy :  0.9333333333333333\n"
     ]
    }
   ],
   "source": [
    "results = cross_val_score(BaggingClassifier(), iris_df, iris_y, cv=kfold)\n",
    "print(\"Bagging Accuracy : \",results.mean())"
   ]
  },
  {
   "cell_type": "markdown",
   "metadata": {},
   "source": [
    "#### **Gradient Boosting**"
   ]
  },
  {
   "cell_type": "code",
   "execution_count": 34,
   "metadata": {},
   "outputs": [
    {
     "name": "stdout",
     "output_type": "stream",
     "text": [
      "Gradient Boosting Accuracy :  0.9266666666666667\n"
     ]
    }
   ],
   "source": [
    "results = cross_val_score(GradientBoostingClassifier(), iris_df, iris_y, cv=kfold)\n",
    "print(\"Gradient Boosting Accuracy : \",results.mean())"
   ]
  },
  {
   "cell_type": "markdown",
   "metadata": {},
   "source": [
    "#### **Random Forest**"
   ]
  },
  {
   "cell_type": "code",
   "execution_count": 35,
   "metadata": {},
   "outputs": [
    {
     "name": "stdout",
     "output_type": "stream",
     "text": [
      "Random Forest Accuracy :  0.9466666666666667\n"
     ]
    }
   ],
   "source": [
    "results = cross_val_score(RandomForestClassifier(), iris_df, iris_y, cv=kfold)\n",
    "print(\"Random Forest Accuracy : \",results.mean())"
   ]
  },
  {
   "cell_type": "markdown",
   "metadata": {},
   "source": [
    "**For the validation method #3, results between the different classifiers are pretty consistent, however we notice that we obtain the best result with the RandomForest model with an accuracy of 0.94667**"
   ]
  },
  {
   "cell_type": "markdown",
   "metadata": {},
   "source": [
    "### **Validation 4 (cross validation)**"
   ]
  },
  {
   "cell_type": "markdown",
   "metadata": {},
   "source": [
    "In cross-validation, the data is partitioned into multiple folds, and the model is trained and evaluated on each fold in turn."
   ]
  },
  {
   "cell_type": "markdown",
   "metadata": {},
   "source": [
    "#### **Decision Tree**"
   ]
  },
  {
   "cell_type": "code",
   "execution_count": 54,
   "metadata": {},
   "outputs": [
    {
     "name": "stdout",
     "output_type": "stream",
     "text": [
      "Cross-validated scores: [0.96 1.   0.92 0.92 1.   1.  ]\n",
      "Cross-Predicted Accuracy: 0.9533333333333334\n"
     ]
    },
    {
     "data": {
      "image/png": "[encoded data removed]",
      "text/plain": [
       "<Figure size 432x288 with 1 Axes>"
      ]
     },
     "metadata": {
      "needs_background": "light"
     },
     "output_type": "display_data"
    }
   ],
   "source": [
    "# Perform 6-fold cross validation\n",
    "scores = cross_val_score(DecisionTreeClassifier(), iris_df, iris_y, cv=6)\n",
    "print(\"Cross-validated scores:\", scores)\n",
    "\n",
    "# Make cross validated predictions\n",
    "predictions = cross_val_predict(DecisionTreeClassifier(), iris_df, iris_y, cv=6)\n",
    "plt.scatter(iris_y, predictions)\n",
    "\n",
    "accuracy = accuracy_score(iris_y, predictions)\n",
    "print(\"Cross-Predicted Accuracy:\", accuracy)"
   ]
  },
  {
   "cell_type": "markdown",
   "metadata": {},
   "source": [
    "#### **Adaboost**"
   ]
  },
  {
   "cell_type": "code",
   "execution_count": 55,
   "metadata": {},
   "outputs": [
    {
     "name": "stdout",
     "output_type": "stream",
     "text": [
      "Cross-validated scores: [0.96 1.   0.92 0.88 0.92 1.  ]\n",
      "Cross-Predicted Accuracy: 0.9466666666666667\n"
     ]
    },
    {
     "data": {
      "image/png": "[encoded data removed]",
      "text/plain": [
       "<Figure size 432x288 with 1 Axes>"
      ]
     },
     "metadata": {
      "needs_background": "light"
     },
     "output_type": "display_data"
    }
   ],
   "source": [
    "# Perform 6-fold cross validation\n",
    "scores = cross_val_score(AdaBoostClassifier(), iris_df, iris_y, cv=6)\n",
    "print(\"Cross-validated scores:\", scores)\n",
    "\n",
    "# Make cross validated predictions\n",
    "predictions = cross_val_predict(AdaBoostClassifier(), iris_df, iris_y, cv=6)\n",
    "plt.scatter(iris_y, predictions)\n",
    "\n",
    "accuracy = accuracy_score(iris_y, predictions)\n",
    "print(\"Cross-Predicted Accuracy:\", accuracy)"
   ]
  },
  {
   "cell_type": "markdown",
   "metadata": {},
   "source": [
    "#### **Bagging**"
   ]
  },
  {
   "cell_type": "code",
   "execution_count": 56,
   "metadata": {},
   "outputs": [
    {
     "name": "stdout",
     "output_type": "stream",
     "text": [
      "Cross-validated scores: [0.96 1.   0.92 0.92 0.92 1.  ]\n",
      "Cross-Predicted Accuracy: 0.9533333333333334\n"
     ]
    },
    {
     "data": {
      "image/png": "[encoded data removed]",
      "text/plain": [
       "<Figure size 432x288 with 1 Axes>"
      ]
     },
     "metadata": {
      "needs_background": "light"
     },
     "output_type": "display_data"
    }
   ],
   "source": [
    "# Perform 6-fold cross validation\n",
    "scores = cross_val_score(BaggingClassifier(), iris_df, iris_y, cv=6)\n",
    "print(\"Cross-validated scores:\", scores)\n",
    "\n",
    "# Make cross validated predictions\n",
    "predictions = cross_val_predict(BaggingClassifier(), iris_df, iris_y, cv=6)\n",
    "plt.scatter(iris_y, predictions)\n",
    "\n",
    "accuracy = accuracy_score(iris_y, predictions)\n",
    "print(\"Cross-Predicted Accuracy:\", accuracy)"
   ]
  },
  {
   "cell_type": "markdown",
   "metadata": {},
   "source": [
    "#### **Gradient Boosting**"
   ]
  },
  {
   "cell_type": "code",
   "execution_count": 57,
   "metadata": {},
   "outputs": [
    {
     "name": "stdout",
     "output_type": "stream",
     "text": [
      "Cross-validated scores: [0.96 1.   0.92 0.92 0.92 1.  ]\n",
      "Cross-Predicted Accuracy: 0.96\n"
     ]
    },
    {
     "data": {
      "image/png": "[encoded data removed]",
      "text/plain": [
       "<Figure size 432x288 with 1 Axes>"
      ]
     },
     "metadata": {
      "needs_background": "light"
     },
     "output_type": "display_data"
    }
   ],
   "source": [
    "# Perform 6-fold cross validation\n",
    "scores = cross_val_score(GradientBoostingClassifier(), iris_df, iris_y, cv=6)\n",
    "print(\"Cross-validated scores:\", scores)\n",
    "\n",
    "# Make cross validated predictions\n",
    "predictions = cross_val_predict(GradientBoostingClassifier(), iris_df, iris_y, cv=6)\n",
    "plt.scatter(iris_y, predictions)\n",
    "\n",
    "accuracy = accuracy_score(iris_y, predictions)\n",
    "print(\"Cross-Predicted Accuracy:\", accuracy)"
   ]
  },
  {
   "cell_type": "markdown",
   "metadata": {},
   "source": [
    "#### **Random Forest**"
   ]
  },
  {
   "cell_type": "code",
   "execution_count": 58,
   "metadata": {},
   "outputs": [
    {
     "name": "stdout",
     "output_type": "stream",
     "text": [
      "Cross-validated scores: [0.96 1.   0.92 0.92 0.92 1.  ]\n",
      "Cross-Predicted Accuracy: 0.9533333333333334\n"
     ]
    },
    {
     "data": {
      "image/png": "[encoded data removed]",
      "text/plain": [
       "<Figure size 432x288 with 1 Axes>"
      ]
     },
     "metadata": {
      "needs_background": "light"
     },
     "output_type": "display_data"
    }
   ],
   "source": [
    "# Perform 6-fold cross validation\n",
    "scores = cross_val_score(RandomForestClassifier(), iris_df, iris_y, cv=6)\n",
    "print(\"Cross-validated scores:\", scores)\n",
    "\n",
    "# Make cross validated predictions\n",
    "predictions = cross_val_predict(RandomForestClassifier(), iris_df, iris_y, cv=6)\n",
    "plt.scatter(iris_y, predictions)\n",
    "\n",
    "accuracy = accuracy_score(iris_y, predictions)\n",
    "print(\"Cross-Predicted Accuracy:\", accuracy)"
   ]
  },
  {
   "cell_type": "markdown",
   "metadata": {},
   "source": [
    "**For the validation method #4, we obtain the same result for models Random Forest, Bagging and Decision Tree (0.9533), Adaboost lags a little bit behind (0.94666) and the best performance is offered by GradientBoosting classifier with a 0.96 accuracy score**"
   ]
  },
  {
   "cell_type": "markdown",
   "metadata": {},
   "source": [
    "============================================"
   ]
  },
  {
   "cell_type": "markdown",
   "metadata": {},
   "source": [
    "##### *As we can see, with the different validation methods and models, the combination that gives the best performance (accuracy score), is the validation 4, where the Gradient Boosting got an accurachy score of 0.96*"
   ]
  },
  {
   "cell_type": "markdown",
   "metadata": {},
   "source": [
    "============================================"
   ]
  },
  {
   "cell_type": "markdown",
   "metadata": {},
   "source": [
    "# **PIMA INDIANS DIABETES**"
   ]
  },
  {
   "cell_type": "markdown",
   "metadata": {},
   "source": [
    "## **Loads a data set**"
   ]
  },
  {
   "cell_type": "code",
   "execution_count": 9,
   "metadata": {},
   "outputs": [],
   "source": [
    "# Load the Diabetes dataset\n",
    "url = \"https://raw.githubusercontent.com/jbrownlee/Datasets/master/pima-indians-diabetes.data.csv\"\n",
    "names = ['preg', 'plas', 'pres', 'skin', 'test', 'mass', 'pedi', 'age', 'class'] # Declare the columns names\n",
    "diabetes_df = pd.read_csv(url, names=names)# load the dataset as a pandas data frame\n",
    "diabetes_y = diabetes_df['class'] # define the target variable (dependent variable) as y\n",
    "diabetes_X = diabetes_df.drop('class', axis=1)"
   ]
  },
  {
   "cell_type": "code",
   "execution_count": 5,
   "metadata": {},
   "outputs": [
    {
     "data": {
      "text/html": [
       "<div>\n",
       "<style scoped>\n",
       "    .dataframe tbody tr th:only-of-type {\n",
       "        vertical-align: middle;\n",
       "    }\n",
       "\n",
       "    .dataframe tbody tr th {\n",
       "        vertical-align: top;\n",
       "    }\n",
       "\n",
       "    .dataframe thead th {\n",
       "        text-align: right;\n",
       "    }\n",
       "</style>\n",
       "<table border=\"1\" class=\"dataframe\">\n",
       "  <thead>\n",
       "    <tr style=\"text-align: right;\">\n",
       "      <th></th>\n",
       "      <th>preg</th>\n",
       "      <th>plas</th>\n",
       "      <th>pres</th>\n",
       "      <th>skin</th>\n",
       "      <th>test</th>\n",
       "      <th>mass</th>\n",
       "      <th>pedi</th>\n",
       "      <th>age</th>\n",
       "      <th>class</th>\n",
       "    </tr>\n",
       "  </thead>\n",
       "  <tbody>\n",
       "    <tr>\n",
       "      <th>0</th>\n",
       "      <td>6</td>\n",
       "      <td>148</td>\n",
       "      <td>72</td>\n",
       "      <td>35</td>\n",
       "      <td>0</td>\n",
       "      <td>33.6</td>\n",
       "      <td>0.627</td>\n",
       "      <td>50</td>\n",
       "      <td>1</td>\n",
       "    </tr>\n",
       "    <tr>\n",
       "      <th>1</th>\n",
       "      <td>1</td>\n",
       "      <td>85</td>\n",
       "      <td>66</td>\n",
       "      <td>29</td>\n",
       "      <td>0</td>\n",
       "      <td>26.6</td>\n",
       "      <td>0.351</td>\n",
       "      <td>31</td>\n",
       "      <td>0</td>\n",
       "    </tr>\n",
       "    <tr>\n",
       "      <th>2</th>\n",
       "      <td>8</td>\n",
       "      <td>183</td>\n",
       "      <td>64</td>\n",
       "      <td>0</td>\n",
       "      <td>0</td>\n",
       "      <td>23.3</td>\n",
       "      <td>0.672</td>\n",
       "      <td>32</td>\n",
       "      <td>1</td>\n",
       "    </tr>\n",
       "    <tr>\n",
       "      <th>3</th>\n",
       "      <td>1</td>\n",
       "      <td>89</td>\n",
       "      <td>66</td>\n",
       "      <td>23</td>\n",
       "      <td>94</td>\n",
       "      <td>28.1</td>\n",
       "      <td>0.167</td>\n",
       "      <td>21</td>\n",
       "      <td>0</td>\n",
       "    </tr>\n",
       "  </tbody>\n",
       "</table>\n",
       "</div>"
      ],
      "text/plain": [
       "   preg  plas  pres  skin  test  mass   pedi  age  class\n",
       "0     6   148    72    35     0  33.6  0.627   50      1\n",
       "1     1    85    66    29     0  26.6  0.351   31      0\n",
       "2     8   183    64     0     0  23.3  0.672   32      1\n",
       "3     1    89    66    23    94  28.1  0.167   21      0"
      ]
     },
     "execution_count": 5,
     "metadata": {},
     "output_type": "execute_result"
    }
   ],
   "source": [
    "diabetes_df.head(4)"
   ]
  },
  {
   "cell_type": "markdown",
   "metadata": {},
   "source": [
    "### **Pima diabetes plottings**"
   ]
  },
  {
   "cell_type": "markdown",
   "metadata": {},
   "source": [
    "plas vs pres plot"
   ]
  },
  {
   "cell_type": "code",
   "execution_count": 40,
   "metadata": {},
   "outputs": [
    {
     "data": {
      "image/png": "[encoded data removed]",
      "text/plain": [
       "<Figure size 540x252 with 1 Axes>"
      ]
     },
     "metadata": {
      "needs_background": "light"
     },
     "output_type": "display_data"
    }
   ],
   "source": [
    "# Plotting the dataset\n",
    "plt.figure(figsize=(7.50, 3.50))\n",
    "plt.subplots_adjust(bottom=0.05, top=0.9, left=0.05, right=0.95)\n",
    "plt.subplot(111)\n",
    "plt.title(\"PLAS vs PRES\", fontsize=\"12\")\n",
    "plt.scatter(diabetes_X['plas'], diabetes_X['pres'], marker=\"o\", c=diabetes_y, s=40, edgecolor=\"k\")\n",
    "plt.show()"
   ]
  },
  {
   "cell_type": "markdown",
   "metadata": {},
   "source": [
    "mass vs pedi plot"
   ]
  },
  {
   "cell_type": "code",
   "execution_count": 41,
   "metadata": {},
   "outputs": [
    {
     "data": {
      "image/png": "[encoded data removed]",
      "text/plain": [
       "<Figure size 540x252 with 1 Axes>"
      ]
     },
     "metadata": {
      "needs_background": "light"
     },
     "output_type": "display_data"
    }
   ],
   "source": [
    "# Plotting the dataset\n",
    "plt.figure(figsize=(7.50, 3.50))\n",
    "plt.subplots_adjust(bottom=0.05, top=0.9, left=0.05, right=0.95)\n",
    "plt.subplot(111)\n",
    "plt.title(\"MASS vs PEDI\", fontsize=\"12\")\n",
    "plt.scatter(diabetes_X['mass'], diabetes_X['pedi'], marker=\"o\", c=diabetes_y, s=40, edgecolor=\"k\")\n",
    "plt.show()"
   ]
  },
  {
   "cell_type": "markdown",
   "metadata": {},
   "source": [
    "pres vs. age plot"
   ]
  },
  {
   "cell_type": "code",
   "execution_count": 42,
   "metadata": {},
   "outputs": [
    {
     "data": {
      "image/png": "[encoded data removed]",
      "text/plain": [
       "<Figure size 540x252 with 1 Axes>"
      ]
     },
     "metadata": {
      "needs_background": "light"
     },
     "output_type": "display_data"
    }
   ],
   "source": [
    "# Plotting the dataset\n",
    "plt.figure(figsize=(7.50, 3.50))\n",
    "plt.subplots_adjust(bottom=0.05, top=0.9, left=0.05, right=0.95)\n",
    "plt.subplot(111)\n",
    "plt.title(\"PRES vs AGE\", fontsize=\"12\")\n",
    "plt.scatter(diabetes_X['pres'], diabetes_X['age'], marker=\"o\", c=diabetes_y, s=40, edgecolor=\"k\")\n",
    "plt.show()"
   ]
  },
  {
   "cell_type": "markdown",
   "metadata": {},
   "source": [
    "As we can see in the plottings above, we can notice a difference between the two groups "
   ]
  },
  {
   "cell_type": "markdown",
   "metadata": {},
   "source": [
    "## **Pima Diabetes Validations**"
   ]
  },
  {
   "cell_type": "markdown",
   "metadata": {},
   "source": [
    "### **Validation 1 (train-test)**"
   ]
  },
  {
   "cell_type": "markdown",
   "metadata": {},
   "source": [
    "We start this validation method with the train-test split "
   ]
  },
  {
   "cell_type": "code",
   "execution_count": 43,
   "metadata": {},
   "outputs": [],
   "source": [
    "# Spliting the dataset into train and test \n",
    "diabetes_X_train, diabetes_X_test, diabetes_y_train, diabetes_y_test = train_test_split(diabetes_X, diabetes_y, test_size = 0.3, random_state = 100)"
   ]
  },
  {
   "cell_type": "markdown",
   "metadata": {},
   "source": [
    "#### **Decision Tree**"
   ]
  },
  {
   "cell_type": "code",
   "execution_count": 44,
   "metadata": {},
   "outputs": [
    {
     "name": "stdout",
     "output_type": "stream",
     "text": [
      "Confusion Matrix: \n",
      " [[140  10]\n",
      " [ 54  27]]\n",
      "Accuracy :  72.2943722943723\n",
      "Report : \n",
      "               precision    recall  f1-score   support\n",
      "\n",
      "           0       0.72      0.93      0.81       150\n",
      "           1       0.73      0.33      0.46        81\n",
      "\n",
      "    accuracy                           0.72       231\n",
      "   macro avg       0.73      0.63      0.64       231\n",
      "weighted avg       0.72      0.72      0.69       231\n",
      "\n"
     ]
    }
   ],
   "source": [
    "# Train classifier\n",
    "dt_clf = train_Decision_Tree(diabetes_X_train, diabetes_y_train)\n",
    "# clf_entropy = train_using_entropy(diabetes_X_train, iris_y_train)\n",
    "\n",
    "# Predict in both cases\n",
    "diabetes_y_pred = prediction(diabetes_X_test, dt_clf)\n",
    "# iris_y_pred_entropy = prediction(iris_X_test, clf_entropy)\n",
    "\n",
    "# Calculate accuracy in both cases\n",
    "cal_accuracy(diabetes_y_test, diabetes_y_pred)\n"
   ]
  },
  {
   "cell_type": "markdown",
   "metadata": {},
   "source": [
    "#### **Adaboost**"
   ]
  },
  {
   "cell_type": "code",
   "execution_count": 45,
   "metadata": {},
   "outputs": [
    {
     "name": "stdout",
     "output_type": "stream",
     "text": [
      "Confusion Matrix: \n",
      " [[120  30]\n",
      " [ 37  44]]\n",
      "Accuracy :  70.995670995671\n",
      "Report : \n",
      "               precision    recall  f1-score   support\n",
      "\n",
      "           0       0.76      0.80      0.78       150\n",
      "           1       0.59      0.54      0.57        81\n",
      "\n",
      "    accuracy                           0.71       231\n",
      "   macro avg       0.68      0.67      0.67       231\n",
      "weighted avg       0.70      0.71      0.71       231\n",
      "\n"
     ]
    }
   ],
   "source": [
    "# Train classifier\n",
    "ab_clf = train_Adaboost(diabetes_X_train, diabetes_y_train)\n",
    "# clf_entropy = train_using_entropy(iris_X_train, iris_y_train)\n",
    "\n",
    "# Predict in both cases\n",
    "diabetes_y_pred = prediction(diabetes_X_test, ab_clf)\n",
    "# iris_y_pred_entropy = prediction(iris_X_test, clf_entropy)\n",
    "\n",
    "# Calculate accuracy in both cases\n",
    "cal_accuracy(diabetes_y_test, diabetes_y_pred)\n"
   ]
  },
  {
   "cell_type": "markdown",
   "metadata": {},
   "source": [
    "#### **Bagging**"
   ]
  },
  {
   "cell_type": "code",
   "execution_count": 46,
   "metadata": {},
   "outputs": [
    {
     "name": "stdout",
     "output_type": "stream",
     "text": [
      "Confusion Matrix: \n",
      " [[123  27]\n",
      " [ 35  46]]\n",
      "Accuracy :  73.16017316017316\n",
      "Report : \n",
      "               precision    recall  f1-score   support\n",
      "\n",
      "           0       0.78      0.82      0.80       150\n",
      "           1       0.63      0.57      0.60        81\n",
      "\n",
      "    accuracy                           0.73       231\n",
      "   macro avg       0.70      0.69      0.70       231\n",
      "weighted avg       0.73      0.73      0.73       231\n",
      "\n"
     ]
    }
   ],
   "source": [
    "# Train classifier\n",
    "bag_clf = train_Bagging(diabetes_X_train, diabetes_y_train)\n",
    "# clf_entropy = train_using_entropy(diabetes_X_train, diabetes_y_train)\n",
    "\n",
    "# Predict in both cases\n",
    "diabetes_y_pred = prediction(diabetes_X_test, bag_clf)\n",
    "# diabetes_y_pred_entropy = prediction(diabetes_X_test, clf_entropy)\n",
    "\n",
    "# Calculate accuracy in both cases\n",
    "cal_accuracy(diabetes_y_test, diabetes_y_pred)"
   ]
  },
  {
   "cell_type": "markdown",
   "metadata": {},
   "source": [
    "#### **Gradient Boosting**"
   ]
  },
  {
   "cell_type": "code",
   "execution_count": 47,
   "metadata": {},
   "outputs": [
    {
     "name": "stdout",
     "output_type": "stream",
     "text": [
      "Confusion Matrix: \n",
      " [[123  27]\n",
      " [ 35  46]]\n",
      "Accuracy :  73.16017316017316\n",
      "Report : \n",
      "               precision    recall  f1-score   support\n",
      "\n",
      "           0       0.78      0.82      0.80       150\n",
      "           1       0.63      0.57      0.60        81\n",
      "\n",
      "    accuracy                           0.73       231\n",
      "   macro avg       0.70      0.69      0.70       231\n",
      "weighted avg       0.73      0.73      0.73       231\n",
      "\n"
     ]
    }
   ],
   "source": [
    "# Train classifier\n",
    "gb_clf = train_Bagging(diabetes_X_train, diabetes_y_train)\n",
    "# clf_entropy = train_using_entropy(diabetes_X_train, diabetes_y_train)\n",
    "\n",
    "# Predict in both cases\n",
    "diabetes_y_pred = prediction(diabetes_X_test, gb_clf)\n",
    "# diabetes_y_pred_entropy = prediction(diabetes_X_test, clf_entropy)\n",
    "\n",
    "# Calculate accuracy in both cases\n",
    "cal_accuracy(diabetes_y_test, diabetes_y_pred)"
   ]
  },
  {
   "cell_type": "markdown",
   "metadata": {},
   "source": [
    "#### **Random Forest**"
   ]
  },
  {
   "cell_type": "code",
   "execution_count": 48,
   "metadata": {},
   "outputs": [
    {
     "name": "stdout",
     "output_type": "stream",
     "text": [
      "Confusion Matrix: \n",
      " [[123  27]\n",
      " [ 35  46]]\n",
      "Accuracy :  73.16017316017316\n",
      "Report : \n",
      "               precision    recall  f1-score   support\n",
      "\n",
      "           0       0.78      0.82      0.80       150\n",
      "           1       0.63      0.57      0.60        81\n",
      "\n",
      "    accuracy                           0.73       231\n",
      "   macro avg       0.70      0.69      0.70       231\n",
      "weighted avg       0.73      0.73      0.73       231\n",
      "\n"
     ]
    }
   ],
   "source": [
    "# Train classifier\n",
    "rf_clf = train_Bagging(diabetes_X_train, diabetes_y_train)\n",
    "# clf_entropy = train_using_entropy(diabetes_X_train, diabetes_y_train)\n",
    "\n",
    "# Predict in both cases\n",
    "diabetes_y_pred = prediction(diabetes_X_test, rf_clf)\n",
    "# diabetes_y_pred_entropy = prediction(diabetes_X_test, clf_entropy)\n",
    "\n",
    "# Calculate accuracy in both cases\n",
    "cal_accuracy(diabetes_y_test, diabetes_y_pred)"
   ]
  },
  {
   "cell_type": "markdown",
   "metadata": {},
   "source": [
    "**For the validation method #1 we notice accuracy scores are very similar between all the models, however Random Forest, Gradient Boosting and Bagging have better results (73.160) than Decision Trees (72.294) and Adaboost (70.995)**"
   ]
  },
  {
   "cell_type": "markdown",
   "metadata": {},
   "source": [
    "### **Validation 2 (leave one out)**"
   ]
  },
  {
   "cell_type": "code",
   "execution_count": 19,
   "metadata": {},
   "outputs": [],
   "source": [
    "loo = LeaveOneOut()"
   ]
  },
  {
   "cell_type": "markdown",
   "metadata": {},
   "source": [
    "#### **Decision Tree**"
   ]
  },
  {
   "cell_type": "code",
   "execution_count": 20,
   "metadata": {},
   "outputs": [
    {
     "name": "stdout",
     "output_type": "stream",
     "text": [
      "Decision Tree Accuracy :  0.7057291666666666\n"
     ]
    }
   ],
   "source": [
    "results = cross_val_score(DecisionTreeClassifier(), diabetes_X, diabetes_y, cv=loo)\n",
    "print(\"Decision Tree Accuracy : \",results.mean())"
   ]
  },
  {
   "cell_type": "markdown",
   "metadata": {},
   "source": [
    "#### **Adaboost**"
   ]
  },
  {
   "cell_type": "code",
   "execution_count": 21,
   "metadata": {},
   "outputs": [
    {
     "name": "stdout",
     "output_type": "stream",
     "text": [
      "Adaboost Accuracy :  0.76953125\n"
     ]
    }
   ],
   "source": [
    "results = cross_val_score(AdaBoostClassifier(), diabetes_X, diabetes_y, cv=loo)\n",
    "print(\"Adaboost Accuracy : \",results.mean())"
   ]
  },
  {
   "cell_type": "markdown",
   "metadata": {},
   "source": [
    "#### **Bagging**"
   ]
  },
  {
   "cell_type": "code",
   "execution_count": 22,
   "metadata": {},
   "outputs": [
    {
     "name": "stdout",
     "output_type": "stream",
     "text": [
      "Bagging Accuracy :  0.7643229166666666\n"
     ]
    }
   ],
   "source": [
    "results = cross_val_score(BaggingClassifier(), diabetes_X, diabetes_y, cv=loo)\n",
    "print(\"Bagging Accuracy : \",results.mean())"
   ]
  },
  {
   "cell_type": "markdown",
   "metadata": {},
   "source": [
    "#### **Gradient Boosting**"
   ]
  },
  {
   "cell_type": "code",
   "execution_count": 23,
   "metadata": {},
   "outputs": [
    {
     "name": "stdout",
     "output_type": "stream",
     "text": [
      "Gradient Boosting Accuracy :  0.7682291666666666\n"
     ]
    }
   ],
   "source": [
    "results = cross_val_score(GradientBoostingClassifier(), diabetes_X, diabetes_y, cv=loo)\n",
    "print(\"Gradient Boosting Accuracy : \",results.mean())"
   ]
  },
  {
   "cell_type": "markdown",
   "metadata": {},
   "source": [
    "#### **Random Forest**"
   ]
  },
  {
   "cell_type": "code",
   "execution_count": 24,
   "metadata": {},
   "outputs": [
    {
     "name": "stdout",
     "output_type": "stream",
     "text": [
      "Random Forest Accuracy :  0.7643229166666666\n"
     ]
    }
   ],
   "source": [
    "results = cross_val_score(RandomForestClassifier(), diabetes_X, diabetes_y, cv=loo)\n",
    "print(\"Random Forest Accuracy : \",results.mean())"
   ]
  },
  {
   "cell_type": "markdown",
   "metadata": {},
   "source": [
    "### **Validation 3 (K-fold)**"
   ]
  },
  {
   "cell_type": "markdown",
   "metadata": {},
   "source": [
    "#### **Decision Tree**"
   ]
  },
  {
   "cell_type": "code",
   "execution_count": 49,
   "metadata": {},
   "outputs": [
    {
     "name": "stdout",
     "output_type": "stream",
     "text": [
      "Decision Tree Accuracy :  0.6912850307587151\n"
     ]
    }
   ],
   "source": [
    "results = cross_val_score(DecisionTreeClassifier(), diabetes_X, diabetes_y, cv=kfold)\n",
    "print(\"Decision Tree Accuracy : \",results.mean())"
   ]
  },
  {
   "cell_type": "markdown",
   "metadata": {},
   "source": [
    "#### **Adaboost**"
   ]
  },
  {
   "cell_type": "code",
   "execution_count": 50,
   "metadata": {},
   "outputs": [
    {
     "name": "stdout",
     "output_type": "stream",
     "text": [
      "Adaboost Accuracy :  0.7539473684210527\n"
     ]
    }
   ],
   "source": [
    "results = cross_val_score(AdaBoostClassifier(), diabetes_X, diabetes_y, cv=kfold)\n",
    "print(\"Adaboost Accuracy : \",results.mean())"
   ]
  },
  {
   "cell_type": "markdown",
   "metadata": {},
   "source": [
    "#### **Bagging**"
   ]
  },
  {
   "cell_type": "code",
   "execution_count": 51,
   "metadata": {},
   "outputs": [
    {
     "name": "stdout",
     "output_type": "stream",
     "text": [
      "Bagging Accuracy :  0.7460355434039645\n"
     ]
    }
   ],
   "source": [
    "results = cross_val_score(BaggingClassifier(), diabetes_X, diabetes_y, cv=kfold)\n",
    "print(\"Bagging Accuracy : \",results.mean())"
   ]
  },
  {
   "cell_type": "markdown",
   "metadata": {},
   "source": [
    "#### **Gradient Boosting**"
   ]
  },
  {
   "cell_type": "code",
   "execution_count": 52,
   "metadata": {},
   "outputs": [
    {
     "name": "stdout",
     "output_type": "stream",
     "text": [
      "Gradient Boosting Accuracy :  0.7656015037593986\n"
     ]
    }
   ],
   "source": [
    "results = cross_val_score(GradientBoostingClassifier(), diabetes_X, diabetes_y, cv=kfold)\n",
    "print(\"Gradient Boosting Accuracy : \",results.mean())"
   ]
  },
  {
   "cell_type": "markdown",
   "metadata": {},
   "source": [
    "#### **Random Forest**"
   ]
  },
  {
   "cell_type": "code",
   "execution_count": 53,
   "metadata": {},
   "outputs": [
    {
     "name": "stdout",
     "output_type": "stream",
     "text": [
      "Random Forest Accuracy :  0.7603725222146276\n"
     ]
    }
   ],
   "source": [
    "results = cross_val_score(RandomForestClassifier(), diabetes_X, diabetes_y, cv=kfold)\n",
    "print(\"Random Forest Accuracy : \",results.mean())"
   ]
  },
  {
   "cell_type": "markdown",
   "metadata": {},
   "source": [
    "**With the validation method #3, K-fold, we notice a significant increase in the accuracy scores when comparing with the train test split validation. With this validation method Gradient boosting stand on top with an accuracy of 0.7656 and Decision Trees experience a drop in performance with an accuracy of 0.69128**"
   ]
  },
  {
   "cell_type": "markdown",
   "metadata": {},
   "source": [
    "### **Validation 4 (cross validation)**"
   ]
  },
  {
   "cell_type": "markdown",
   "metadata": {},
   "source": [
    "#### **Decision Tree**"
   ]
  },
  {
   "cell_type": "code",
   "execution_count": 59,
   "metadata": {},
   "outputs": [
    {
     "name": "stdout",
     "output_type": "stream",
     "text": [
      "Cross-validated scores: [0.75      0.6796875 0.65625   0.71875   0.7890625 0.7265625]\n",
      "Cross-Predicted Accuracy: 0.7109375\n"
     ]
    },
    {
     "data": {
      "image/png": "[encoded data removed]",
      "text/plain": [
       "<Figure size 432x288 with 1 Axes>"
      ]
     },
     "metadata": {
      "needs_background": "light"
     },
     "output_type": "display_data"
    }
   ],
   "source": [
    "# Perform 6-fold cross validation\n",
    "scores = cross_val_score(DecisionTreeClassifier(), diabetes_X, diabetes_y, cv=6)\n",
    "print(\"Cross-validated scores:\", scores)\n",
    "\n",
    "# Make cross validated predictions\n",
    "predictions = cross_val_predict(DecisionTreeClassifier(), diabetes_X, diabetes_y, cv=6)\n",
    "plt.scatter(diabetes_y, predictions)\n",
    "\n",
    "accuracy = accuracy_score(diabetes_y, predictions)\n",
    "print(\"Cross-Predicted Accuracy:\", accuracy)"
   ]
  },
  {
   "cell_type": "markdown",
   "metadata": {},
   "source": [
    "#### **Adaboost**"
   ]
  },
  {
   "cell_type": "code",
   "execution_count": 60,
   "metadata": {},
   "outputs": [
    {
     "name": "stdout",
     "output_type": "stream",
     "text": [
      "Cross-validated scores: [0.7421875 0.6953125 0.7265625 0.796875  0.8125    0.78125  ]\n",
      "Cross-Predicted Accuracy: 0.7591145833333334\n"
     ]
    },
    {
     "data": {
      "image/png": "[encoded data removed]",
      "text/plain": [
       "<Figure size 432x288 with 1 Axes>"
      ]
     },
     "metadata": {
      "needs_background": "light"
     },
     "output_type": "display_data"
    }
   ],
   "source": [
    "# Perform 6-fold cross validation\n",
    "scores = cross_val_score(AdaBoostClassifier(), diabetes_X, diabetes_y, cv=6)\n",
    "print(\"Cross-validated scores:\", scores)\n",
    "\n",
    "# Make cross validated predictions\n",
    "predictions = cross_val_predict(AdaBoostClassifier(), diabetes_X, diabetes_y, cv=6)\n",
    "plt.scatter(diabetes_y, predictions)\n",
    "\n",
    "accuracy = accuracy_score(diabetes_y, predictions)\n",
    "print(\"Cross-Predicted Accuracy:\", accuracy)"
   ]
  },
  {
   "cell_type": "markdown",
   "metadata": {},
   "source": [
    "#### **Bagging**"
   ]
  },
  {
   "cell_type": "code",
   "execution_count": 61,
   "metadata": {},
   "outputs": [
    {
     "name": "stdout",
     "output_type": "stream",
     "text": [
      "Cross-validated scores: [0.75      0.65625   0.7265625 0.7734375 0.8046875 0.765625 ]\n",
      "Cross-Predicted Accuracy: 0.75390625\n"
     ]
    },
    {
     "data": {
      "image/png": "[encoded data removed]",
      "text/plain": [
       "<Figure size 432x288 with 1 Axes>"
      ]
     },
     "metadata": {
      "needs_background": "light"
     },
     "output_type": "display_data"
    }
   ],
   "source": [
    "# Perform 6-fold cross validation\n",
    "scores = cross_val_score(BaggingClassifier(), diabetes_X, diabetes_y, cv=6)\n",
    "print(\"Cross-validated scores:\", scores)\n",
    "\n",
    "# Make cross validated predictions\n",
    "predictions = cross_val_predict(BaggingClassifier(), diabetes_X, diabetes_y, cv=6)\n",
    "plt.scatter(diabetes_y, predictions)\n",
    "\n",
    "accuracy = accuracy_score(diabetes_y, predictions)\n",
    "print(\"Cross-Predicted Accuracy:\", accuracy)"
   ]
  },
  {
   "cell_type": "markdown",
   "metadata": {},
   "source": [
    "#### **Gradient Boosting**"
   ]
  },
  {
   "cell_type": "code",
   "execution_count": 62,
   "metadata": {},
   "outputs": [
    {
     "name": "stdout",
     "output_type": "stream",
     "text": [
      "Cross-validated scores: [0.8046875 0.7421875 0.703125  0.7734375 0.8125    0.78125  ]\n",
      "Cross-Predicted Accuracy: 0.7643229166666666\n"
     ]
    },
    {
     "data": {
      "image/png": "[encoded data removed]",
      "text/plain": [
       "<Figure size 432x288 with 1 Axes>"
      ]
     },
     "metadata": {
      "needs_background": "light"
     },
     "output_type": "display_data"
    }
   ],
   "source": [
    "# Perform 6-fold cross validation\n",
    "scores = cross_val_score(GradientBoostingClassifier(), diabetes_X, diabetes_y, cv=6)\n",
    "print(\"Cross-validated scores:\", scores)\n",
    "\n",
    "# Make cross validated predictions\n",
    "predictions = cross_val_predict(GradientBoostingClassifier(), diabetes_X, diabetes_y, cv=6)\n",
    "plt.scatter(diabetes_y, predictions)\n",
    "\n",
    "accuracy = accuracy_score(diabetes_y, predictions)\n",
    "print(\"Cross-Predicted Accuracy:\", accuracy)"
   ]
  },
  {
   "cell_type": "markdown",
   "metadata": {},
   "source": [
    "#### **Random Forest**"
   ]
  },
  {
   "cell_type": "code",
   "execution_count": 63,
   "metadata": {},
   "outputs": [
    {
     "name": "stdout",
     "output_type": "stream",
     "text": [
      "Cross-validated scores: [0.78125   0.7421875 0.7265625 0.78125   0.8359375 0.7734375]\n",
      "Cross-Predicted Accuracy: 0.7747395833333334\n"
     ]
    },
    {
     "data": {
      "image/png": "[encoded data removed]",
      "text/plain": [
       "<Figure size 432x288 with 1 Axes>"
      ]
     },
     "metadata": {
      "needs_background": "light"
     },
     "output_type": "display_data"
    }
   ],
   "source": [
    "# Perform 6-fold cross validation\n",
    "scores = cross_val_score(RandomForestClassifier(), diabetes_X, diabetes_y, cv=6)\n",
    "print(\"Cross-validated scores:\", scores)\n",
    "\n",
    "# Make cross validated predictions\n",
    "predictions = cross_val_predict(RandomForestClassifier(), diabetes_X, diabetes_y, cv=6)\n",
    "plt.scatter(diabetes_y, predictions)\n",
    "\n",
    "accuracy = accuracy_score(diabetes_y, predictions)\n",
    "print(\"Cross-Predicted Accuracy:\", accuracy)"
   ]
  },
  {
   "cell_type": "markdown",
   "metadata": {},
   "source": [
    "**And lastly, for the validation method 4, cross validation, Random forest stand on top with an accuracy score of 0.7747 and Decision tree lags behind with 0.7109**"
   ]
  },
  {
   "cell_type": "markdown",
   "metadata": {},
   "source": [
    "## **Task 3: Reflect on the applicability of the methods studied**"
   ]
  },
  {
   "cell_type": "markdown",
   "metadata": {},
   "source": [
    "**In the practical application of tree-based models, the datasets employed have been specifically designed with a target variable intended for classification purposes. As a result, it has become evident that the machine learning models that have been covered in previous classes are not suitable for the analysis of such datasets. It is essential to note that the conventional machine learning models, such as linear regression, logistic regression, and support vector machines, are primarily designed for predicting continuous or numeric target variables. These models rely on statistical assumptions, such as linearity and normality, that are often violated in datasets with categorical target variables.**\n",
    "\n",
    "**Tree-based models, on the other hand, are well-suited for handling classification problems, such as the ones encountered in the datasets under consideration. They can efficiently handle both binary and multi-class classification problems, making them an excellent choice for solving problems that involve predicting the class of an observation based on a set of features. Tree-based models use a decision tree to split the data into smaller subsets based on the values of the features. This process is repeated recursively until the subsets are small enough to be modeled with a simple function. The resulting model can easily handle complex, non-linear relationships between the features and the target variable, making it an ideal choice for classification tasks.**\n",
    "\n",
    "**In summary, the datasets used in this practical application of tree-based models have a categorical target variable, rendering the conventional machine learning models unsuitable. However, tree-based models are well-suited for handling such datasets and can effectively model complex, non-linear relationships between the features and the target variable, making them a preferred choice for classification tasks.**"
   ]
  }
 ],
 "metadata": {
  "kernelspec": {
   "display_name": "Python 3.9.12 ('base')",
   "language": "python",
   "name": "python3"
  },
  "language_info": {
   "codemirror_mode": {
    "name": "ipython",
    "version": 3
   },
   "file_extension": ".py",
   "mimetype": "text/x-python",
   "name": "python",
   "nbconvert_exporter": "python",
   "pygments_lexer": "ipython3",
   "version": "3.9.12"
  },
  "orig_nbformat": 4,
  "vscode": {
   "interpreter": {
    "hash": "dc3f44e010abd26ab046284901ce9509711ac3cc1e8fdd0965c6a2a3e20ab15a"
   }
  }
 },
 "nbformat": 4,
 "nbformat_minor": 2
}
